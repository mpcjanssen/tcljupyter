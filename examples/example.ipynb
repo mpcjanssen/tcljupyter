{
 "cells": [
  {
   "cell_type": "code",
   "execution_count": 1,
   "metadata": {},
   "outputs": [
    {
     "data": {
      "text/markdown": [
       "# test"
      ]
     },
     "metadata": {},
     "output_type": "display_data"
    },
    {
     "name": "stdout",
     "output_type": "stream",
     "text": [
      "display-id-1\r\n"
     ]
    }
   ],
   "source": [
    "jupyter::display \"text/markdown\" \"# test\""
   ]
  },
  {
   "cell_type": "code",
   "execution_count": 2,
   "metadata": {},
   "outputs": [
    {
     "name": "stdout",
     "output_type": "stream",
     "text": [
      "4\n"
     ]
    }
   ],
   "source": [
    "package require rl_json\n",
    "set t {{\"g\":\"e\"}}\n",
    "rl_json::json template {{\"test\" : \"~J:t\"}}\n",
    "set a 4"
   ]
  },
  {
   "cell_type": "code",
   "execution_count": 3,
   "metadata": {},
   "outputs": [
    {
     "data": {
      "application/json": {
       "a": "c"
      },
      "text/plain": [
       "{\"a\":\"c\"}"
      ]
     },
     "metadata": {},
     "output_type": "display_data"
    },
    {
     "name": "stdout",
     "output_type": "stream",
     "text": [
      "display-id-2\n"
     ]
    }
   ],
   "source": [
    "jupyter::display \"application/json\" {{\"a\":\"b\"}}"
   ]
  },
  {
   "cell_type": "code",
   "execution_count": 4,
   "metadata": {},
   "outputs": [],
   "source": [
    "jupyter::updatedisplay display-id-2 \"application/json\" {{\"a\":\"c\"}}"
   ]
  },
  {
   "cell_type": "code",
   "execution_count": 4,
   "metadata": {},
   "outputs": [
    {
     "name": "stdout",
     "output_type": "stream",
     "text": [
      "4\n"
     ]
    }
   ],
   "source": [
    "set a 4"
   ]
  },
  {
   "cell_type": "code",
   "execution_count": 5,
   "metadata": {},
   "outputs": [
    {
     "data": {
      "text/html": [
       "<a>test</a>"
      ]
     },
     "metadata": {},
     "output_type": "display_data"
    },
    {
     "name": "stdout",
     "output_type": "stream",
     "text": [
      "display-id-3\n"
     ]
    }
   ],
   "source": [
    "jupyter::html <a>test</a>"
   ]
  },
  {
   "cell_type": "code",
   "execution_count": 6,
   "metadata": {},
   "outputs": [
    {
     "name": "stderr",
     "output_type": "stream",
     "text": [
      "test\n",
      "    while executing\n",
      "\"error test\"\n"
     ]
    }
   ],
   "source": [
    "error test"
   ]
  },
  {
   "cell_type": "code",
   "execution_count": 7,
   "metadata": {},
   "outputs": [
    {
     "name": "stderr",
     "output_type": "stream",
     "text": [
      "invalid command name \"dasdads\"\n",
      "    while executing\n",
      "\"dasdads ads asd\"\n"
     ]
    }
   ],
   "source": [
    "dasdads ads asd"
   ]
  },
  {
   "cell_type": "code",
   "execution_count": 8,
   "metadata": {},
   "outputs": [
    {
     "name": "stdout",
     "output_type": "stream",
     "text": [
      "ok\n",
      "\n"
     ]
    }
   ],
   "source": [
    "puts ok"
   ]
  },
  {
   "cell_type": "code",
   "execution_count": 9,
   "metadata": {},
   "outputs": [
    {
     "name": "stderr",
     "output_type": "stream",
     "text": [
      "can not find channel named \"yest\"\n",
      "    while executing\n",
      "\"gets yest\"\n"
     ]
    }
   ],
   "source": [
    "gets yest"
   ]
  },
  {
   "cell_type": "code",
   "execution_count": 10,
   "metadata": {},
   "outputs": [
    {
     "name": "stdout",
     "output_type": "stream",
     "text": [
      "-1\n"
     ]
    }
   ],
   "source": [
    "gets stdin test"
   ]
  },
  {
   "cell_type": "code",
   "execution_count": 11,
   "metadata": {},
   "outputs": [
    {
     "name": "stdout",
     "output_type": "stream",
     "text": [
      "\n"
     ]
    }
   ],
   "source": [
    "  package require base64\n",
    "  package require cmark\n",
    "\n",
    "  proc plantumlurl {raw} {\n",
    "    return https://plantuml.mpcjanssen.nl/svg/[string map [list \\n {}] [string trim [base64toplantuml [base64::encode [zlib deflate $raw]]]]]\n",
    "  }\n",
    " \n",
    "  variable base64map\n",
    "  foreach x {A B C D E F G H I J K L M N O P Q R S T U V W X Y Z  a b c d e f g h i j k l m n o p q r s t u v w x y z 0 1 2 3 4 5 6 7 8 9 + /}\\\n",
    "    y {0 1 2 3 4 5 6 7 8 9 A B C D E F G H I J K L M N O P Q R S T U V W X Y Z a b c d e f g h i j k l m n o p q r s t u v w x y z - _} {\n",
    "    lappend base64map $x $y\n",
    "  }\n",
    "    interp alias {} [namespace current]::base64toplantuml {} string map $base64map \n",
    "    proc plantuml {raw} {jupyter::html [cmark::render \"!\\[\\]([plantumlurl $raw])\"]}"
   ]
  },
  {
   "cell_type": "code",
   "execution_count": 12,
   "metadata": {},
   "outputs": [
    {
     "data": {
      "text/html": [
       "<p><img src=\"https://plantuml.mpcjanssen.nl/svg/TOwz2eD048JxVOh5tXUGaCRgi3nB8IpU4Wykw-Ns5FBsYJ-OMAIT-UPZ42Abx7iVIJ8MTV0ikHFBgdwK0acnjcUcuIGSrgevD_kgatP8J6v5RFk7CP8vnOqn0BN5ihnYWnKcVawi6Q1P8zjME92umBU7ti6sk8IcGfuf0FNPpvHvaLXp39pN6EYrqelscspIslum1lTLOfr21iSdww7Owy_LIrdkLpMEeWnl\" alt=\"\" /></p>\n"
      ]
     },
     "metadata": {},
     "output_type": "display_data"
    },
    {
     "name": "stdout",
     "output_type": "stream",
     "text": [
      "display-id-4\n"
     ]
    }
   ],
   "source": [
    "plantuml { \n",
    "participant \"Client\\nSession\" as CS\n",
    "participant \"Kernel\" as K\n",
    "participant \"Session\\nThread\" as ST\n",
    "participant \"Session\\nInterp\" as SI\n",
    "\n",
    "CS --> K : request\n",
    "\n",
    "K --> ST: handle_msg\n",
    "ST -> SI: eval\n",
    "activate SI\n",
    "SI --> ST: display\n",
    "ST --> K: display\n",
    "K --> CS: display\n",
    "SI -> ST: result\n",
    "deactivate SI\n",
    "ST --> K: result\n",
    "CS <-- K : response\n",
    "}"
   ]
  },
  {
   "cell_type": "code",
   "execution_count": null,
   "metadata": {},
   "outputs": [],
   "source": []
  }
 ],
 "metadata": {
  "kernelspec": {
   "display_name": "Tcl",
   "language": "tcl",
   "name": "tcl_kernel-0.0.1"
  },
  "language_info": {
   "file_extension": ".tcl",
   "mimetype": "txt/x-tcl",
   "name": "tcl",
   "version": "8.6.10"
  }
 },
 "nbformat": 4,
 "nbformat_minor": 4
}
