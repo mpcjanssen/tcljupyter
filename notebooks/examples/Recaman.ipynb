{
 "cells": [
  {
   "cell_type": "markdown",
   "metadata": {},
   "source": [
    "# Recaman circles\n",
    "\n",
    "Ported from https://wiki.tcl-lang.org/page/The+Recaman%27s+sequence\n",
    "\n",
    "The Recaman's sequence is a sequence invented by Bernardo Recaman Santos (a Colombian mathematician). It is defined by :\n",
    "\n",
    "$$\n",
    "a(n) = \\begin{cases} \n",
    "0 & \\text{if $n=0$}\\\\\n",
    "a(n-1)-n & \\text{for $n > 0$}, \\text{if positive and not already in the sequence} \\\\ \n",
    "a(n-1)+n &\\text{otherwise} \n",
    "\\end{cases}\n",
    "$$\n",
    "\n",
    "An interesting visualization of this sequence can be done with half-circle representing the jump from a(n) to a(n+1).\n",
    "\n",
    "![example-image](https://wiki.tcl-lang.org/image/img_recaman1)"
   ]
  },
  {
   "cell_type": "code",
   "execution_count": 1,
   "metadata": {},
   "outputs": [],
   "source": [
    " proc recaman {n} {\n",
    "  if {$n <= 0} return\n",
    "  set s {}\n",
    "\n",
    "  lappend s 0\n",
    "  set prev 0\n",
    "  for {set i 1} {$i <= $n} {incr i} {\n",
    "     set curr [expr {$prev - $i}]\n",
    "     if {$curr < 0 || $curr in $s} then {set curr [expr {$prev + $i}]}\n",
    "     lappend s $curr\n",
    "     set prev $curr\n",
    "  }\n",
    "  return $s\n",
    " }"
   ]
  },
  {
   "cell_type": "code",
   "execution_count": 137,
   "metadata": {},
   "outputs": [
    {
     "data": {
      "text/plain": [
       "0 1 3 6 2 7 13 20 12 21 11 22 10 23 9 24 8 25 43 62 42"
      ]
     },
     "execution_count": 137,
     "metadata": {},
     "output_type": "execute_result"
    }
   ],
   "source": [
    "recaman 20"
   ]
  },
  {
   "cell_type": "code",
   "execution_count": 231,
   "metadata": {},
   "outputs": [],
   "source": [
    " proc plot_recaman {s} {\n",
    "  set arcs {}\n",
    "  set n [llength $s]\n",
    "  incr n -1\n",
    "  set z 4\n",
    "  set H [expr {$n}]\n",
    "  if {$n > 100} then {\n",
    "    set H [expr {$n/2}]\n",
    "  }\n",
    "  set W [expr {4*$n}]\n",
    "  set sweep 0\n",
    "  set x1 0\n",
    "  set sw [expr {$H/100.0}]\n",
    "  for {set i 1} {$i <= $n} {incr i} {\n",
    "     \n",
    "     set x2 [lindex $s $i]\n",
    "     set r [expr {abs(($x2-$x1)/2.0)}]\n",
    "     if {$x1 < $x2} {\n",
    "     lappend arcs  [subst {<path d=\"M$x1.0,0.0 a$r,$r 0 0,$sweep [expr {2*$r}],0.0\" fill=\"none\" stroke=\"blue\" stroke-width=\"${sw}px\"/>}]\n",
    "     } else {\n",
    "     lappend arcs  [subst {<path d=\"M$x2.0,0 a$r,$r 0 0,$sweep [expr {2*$r}],0.0\" fill=\"none\" stroke=\"blue\" stroke-width=\"${sw}px\"/>}]\n",
    "     }\n",
    "     set x1 $x2\n",
    "     \n",
    "     if {$sweep == 0} {set sweep 1} {set sweep 0}\n",
    "  }\n",
    "  jupyter::html \"<h2>Recaman circles for n=$n</h2><p><svg viewbox='-5 -$H $W [expr {2*$H}]'>$arcs</svg>\"\n",
    " }"
   ]
  },
  {
   "cell_type": "code",
   "execution_count": 233,
   "metadata": {},
   "outputs": [
    {
     "data": {
      "text/html": [
       "<h2>Recaman circles for n=50</h2><p><svg viewbox='-5 -50 200 100'>{<path d=\"M0.0,0.0 a0.5,0.5 0 0,0 1.0,0.0\" fill=\"none\" stroke=\"blue\" stroke-width=\"0.5px\"/>} {<path d=\"M1.0,0.0 a1.0,1.0 0 0,1 2.0,0.0\" fill=\"none\" stroke=\"blue\" stroke-width=\"0.5px\"/>} {<path d=\"M3.0,0.0 a1.5,1.5 0 0,0 3.0,0.0\" fill=\"none\" stroke=\"blue\" stroke-width=\"0.5px\"/>} {<path d=\"M2.0,0 a2.0,2.0 0 0,1 4.0,0.0\" fill=\"none\" stroke=\"blue\" stroke-width=\"0.5px\"/>} {<path d=\"M2.0,0.0 a2.5,2.5 0 0,0 5.0,0.0\" fill=\"none\" stroke=\"blue\" stroke-width=\"0.5px\"/>} {<path d=\"M7.0,0.0 a3.0,3.0 0 0,1 6.0,0.0\" fill=\"none\" stroke=\"blue\" stroke-width=\"0.5px\"/>} {<path d=\"M13.0,0.0 a3.5,3.5 0 0,0 7.0,0.0\" fill=\"none\" stroke=\"blue\" stroke-width=\"0.5px\"/>} {<path d=\"M12.0,0 a4.0,4.0 0 0,1 8.0,0.0\" fill=\"none\" stroke=\"blue\" stroke-width=\"0.5px\"/>} {<path d=\"M12.0,0.0 a4.5,4.5 0 0,0 9.0,0.0\" fill=\"none\" stroke=\"blue\" stroke-width=\"0.5px\"/>} {<path d=\"M11.0,0 a5.0,5.0 0 0,1 10.0,0.0\" fill=\"none\" stroke=\"blue\" stroke-width=\"0.5px\"/>} {<path d=\"M11.0,0.0 a5.5,5.5 0 0,0 11.0,0.0\" fill=\"none\" stroke=\"blue\" stroke-width=\"0.5px\"/>} {<path d=\"M10.0,0 a6.0,6.0 0 0,1 12.0,0.0\" fill=\"none\" stroke=\"blue\" stroke-width=\"0.5px\"/>} {<path d=\"M10.0,0.0 a6.5,6.5 0 0,0 13.0,0.0\" fill=\"none\" stroke=\"blue\" stroke-width=\"0.5px\"/>} {<path d=\"M9.0,0 a7.0,7.0 0 0,1 14.0,0.0\" fill=\"none\" stroke=\"blue\" stroke-width=\"0.5px\"/>} {<path d=\"M9.0,0.0 a7.5,7.5 0 0,0 15.0,0.0\" fill=\"none\" stroke=\"blue\" stroke-width=\"0.5px\"/>} {<path d=\"M8.0,0 a8.0,8.0 0 0,1 16.0,0.0\" fill=\"none\" stroke=\"blue\" stroke-width=\"0.5px\"/>} {<path d=\"M8.0,0.0 a8.5,8.5 0 0,0 17.0,0.0\" fill=\"none\" stroke=\"blue\" stroke-width=\"0.5px\"/>} {<path d=\"M25.0,0.0 a9.0,9.0 0 0,1 18.0,0.0\" fill=\"none\" stroke=\"blue\" stroke-width=\"0.5px\"/>} {<path d=\"M43.0,0.0 a9.5,9.5 0 0,0 19.0,0.0\" fill=\"none\" stroke=\"blue\" stroke-width=\"0.5px\"/>} {<path d=\"M42.0,0 a10.0,10.0 0 0,1 20.0,0.0\" fill=\"none\" stroke=\"blue\" stroke-width=\"0.5px\"/>} {<path d=\"M42.0,0.0 a10.5,10.5 0 0,0 21.0,0.0\" fill=\"none\" stroke=\"blue\" stroke-width=\"0.5px\"/>} {<path d=\"M41.0,0 a11.0,11.0 0 0,1 22.0,0.0\" fill=\"none\" stroke=\"blue\" stroke-width=\"0.5px\"/>} {<path d=\"M18.0,0 a11.5,11.5 0 0,0 23.0,0.0\" fill=\"none\" stroke=\"blue\" stroke-width=\"0.5px\"/>} {<path d=\"M18.0,0.0 a12.0,12.0 0 0,1 24.0,0.0\" fill=\"none\" stroke=\"blue\" stroke-width=\"0.5px\"/>} {<path d=\"M17.0,0 a12.5,12.5 0 0,0 25.0,0.0\" fill=\"none\" stroke=\"blue\" stroke-width=\"0.5px\"/>} {<path d=\"M17.0,0.0 a13.0,13.0 0 0,1 26.0,0.0\" fill=\"none\" stroke=\"blue\" stroke-width=\"0.5px\"/>} {<path d=\"M16.0,0 a13.5,13.5 0 0,0 27.0,0.0\" fill=\"none\" stroke=\"blue\" stroke-width=\"0.5px\"/>} {<path d=\"M16.0,0.0 a14.0,14.0 0 0,1 28.0,0.0\" fill=\"none\" stroke=\"blue\" stroke-width=\"0.5px\"/>} {<path d=\"M15.0,0 a14.5,14.5 0 0,0 29.0,0.0\" fill=\"none\" stroke=\"blue\" stroke-width=\"0.5px\"/>} {<path d=\"M15.0,0.0 a15.0,15.0 0 0,1 30.0,0.0\" fill=\"none\" stroke=\"blue\" stroke-width=\"0.5px\"/>} {<path d=\"M14.0,0 a15.5,15.5 0 0,0 31.0,0.0\" fill=\"none\" stroke=\"blue\" stroke-width=\"0.5px\"/>} {<path d=\"M14.0,0.0 a16.0,16.0 0 0,1 32.0,0.0\" fill=\"none\" stroke=\"blue\" stroke-width=\"0.5px\"/>} {<path d=\"M46.0,0.0 a16.5,16.5 0 0,0 33.0,0.0\" fill=\"none\" stroke=\"blue\" stroke-width=\"0.5px\"/>} {<path d=\"M79.0,0.0 a17.0,17.0 0 0,1 34.0,0.0\" fill=\"none\" stroke=\"blue\" stroke-width=\"0.5px\"/>} {<path d=\"M78.0,0 a17.5,17.5 0 0,0 35.0,0.0\" fill=\"none\" stroke=\"blue\" stroke-width=\"0.5px\"/>} {<path d=\"M78.0,0.0 a18.0,18.0 0 0,1 36.0,0.0\" fill=\"none\" stroke=\"blue\" stroke-width=\"0.5px\"/>} {<path d=\"M77.0,0 a18.5,18.5 0 0,0 37.0,0.0\" fill=\"none\" stroke=\"blue\" stroke-width=\"0.5px\"/>} {<path d=\"M39.0,0 a19.0,19.0 0 0,1 38.0,0.0\" fill=\"none\" stroke=\"blue\" stroke-width=\"0.5px\"/>} {<path d=\"M39.0,0.0 a19.5,19.5 0 0,0 39.0,0.0\" fill=\"none\" stroke=\"blue\" stroke-width=\"0.5px\"/>} {<path d=\"M38.0,0 a20.0,20.0 0 0,1 40.0,0.0\" fill=\"none\" stroke=\"blue\" stroke-width=\"0.5px\"/>} {<path d=\"M38.0,0.0 a20.5,20.5 0 0,0 41.0,0.0\" fill=\"none\" stroke=\"blue\" stroke-width=\"0.5px\"/>} {<path d=\"M37.0,0 a21.0,21.0 0 0,1 42.0,0.0\" fill=\"none\" stroke=\"blue\" stroke-width=\"0.5px\"/>} {<path d=\"M37.0,0.0 a21.5,21.5 0 0,0 43.0,0.0\" fill=\"none\" stroke=\"blue\" stroke-width=\"0.5px\"/>} {<path d=\"M36.0,0 a22.0,22.0 0 0,1 44.0,0.0\" fill=\"none\" stroke=\"blue\" stroke-width=\"0.5px\"/>} {<path d=\"M36.0,0.0 a22.5,22.5 0 0,0 45.0,0.0\" fill=\"none\" stroke=\"blue\" stroke-width=\"0.5px\"/>} {<path d=\"M35.0,0 a23.0,23.0 0 0,1 46.0,0.0\" fill=\"none\" stroke=\"blue\" stroke-width=\"0.5px\"/>} {<path d=\"M35.0,0.0 a23.5,23.5 0 0,0 47.0,0.0\" fill=\"none\" stroke=\"blue\" stroke-width=\"0.5px\"/>} {<path d=\"M34.0,0 a24.0,24.0 0 0,1 48.0,0.0\" fill=\"none\" stroke=\"blue\" stroke-width=\"0.5px\"/>} {<path d=\"M34.0,0.0 a24.5,24.5 0 0,0 49.0,0.0\" fill=\"none\" stroke=\"blue\" stroke-width=\"0.5px\"/>} {<path d=\"M33.0,0 a25.0,25.0 0 0,1 50.0,0.0\" fill=\"none\" stroke=\"blue\" stroke-width=\"0.5px\"/>}</svg>"
      ]
     },
     "metadata": {},
     "output_type": "display_data"
    }
   ],
   "source": [
    "plot_recaman [recaman 50];"
   ]
  },
  {
   "cell_type": "code",
   "execution_count": null,
   "metadata": {},
   "outputs": [],
   "source": []
  },
  {
   "cell_type": "code",
   "execution_count": null,
   "metadata": {},
   "outputs": [],
   "source": []
  }
 ],
 "metadata": {
  "kernelspec": {
   "display_name": "Tcl 8.7",
   "language": "tcl",
   "name": "tcl87"
  },
  "language_info": {
   "file_extension": ".tcl",
   "mimetype": "txt/x-tcl",
   "name": "tcl",
   "version": "8.7a3"
  }
 },
 "nbformat": 4,
 "nbformat_minor": 4
}
